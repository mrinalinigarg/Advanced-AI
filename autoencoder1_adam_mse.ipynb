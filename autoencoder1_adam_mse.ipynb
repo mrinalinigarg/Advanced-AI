{
  "nbformat": 4,
  "nbformat_minor": 0,
  "metadata": {
    "colab": {
      "name": "autoencoder1_adam_mse.ipynb",
      "provenance": [],
      "machine_shape": "hm"
    },
    "kernelspec": {
      "name": "python3",
      "display_name": "Python 3"
    },
    "language_info": {
      "name": "python"
    },
    "accelerator": "TPU"
  },
  "cells": [
    {
      "cell_type": "code",
      "metadata": {
        "id": "Cqn1_K3GlbGu"
      },
      "source": [
        "import numpy as np\n",
        "import os\n",
        "import PIL\n",
        "import PIL.Image\n",
        "import tensorflow as tf\n",
        "import tensorflow_datasets as tfds\n",
        "import cv2 \n",
        "\n",
        "from tensorflow.keras.layers import Input, Dense, Conv2D, MaxPooling2D, UpSampling2D, Conv3D ,MaxPooling3D,UpSampling3D\n",
        "from tensorflow.keras.models import Model\n",
        "from keras import backend as K\n",
        "import imageio\n",
        "import glob \n",
        "import os\n",
        "import cv2\n",
        "import numpy as np\n",
        "from keras import regularizers\n",
        "from keras.datasets import mnist\n",
        "\n",
        "from tensorflow.keras.models import Sequential,Model\n",
        "from tensorflow.keras.preprocessing.image import ImageDataGenerator\n",
        "from tensorflow.keras.layers import Dense, Activation, Flatten, Dropout,GlobalAveragePooling2D\n",
        "from tensorflow.keras.callbacks import EarlyStopping, ModelCheckpoint, TensorBoard,CSVLogger\n",
        "\n",
        "import matplotlib.pyplot as plt\n",
        "import numpy as np\n",
        "import pandas as pd\n",
        "import tensorflow as tf\n",
        "\n",
        "from sklearn.metrics import accuracy_score, precision_score, recall_score\n",
        "from sklearn.model_selection import train_test_split\n",
        "from tensorflow.keras import layers, losses\n",
        "from tensorflow.keras.datasets import fashion_mnist\n",
        "from tensorflow.keras.models import Model\n",
        "\n",
        "img_width=512 # 2048\n",
        "img_height=512 # 2048"
      ],
      "execution_count": 1,
      "outputs": []
    },
    {
      "cell_type": "code",
      "metadata": {
        "colab": {
          "base_uri": "https://localhost:8080/"
        },
        "id": "VTefUk3flg7k",
        "outputId": "7a5ae9e1-911b-4f8a-f3dd-80a7683cf5a4"
      },
      "source": [
        "from google.colab import drive\n",
        "drive.mount('/content/drive')"
      ],
      "execution_count": 2,
      "outputs": [
        {
          "output_type": "stream",
          "text": [
            "Mounted at /content/drive\n"
          ],
          "name": "stdout"
        }
      ]
    },
    {
      "cell_type": "code",
      "metadata": {
        "id": "mFhGoOF6ljwL"
      },
      "source": [
        "defect_folder= '/content/drive/MyDrive/dataset_train/spray_defects'\n",
        "normal_folder= '/content/drive/MyDrive/dataset_train/normal'"
      ],
      "execution_count": 3,
      "outputs": []
    },
    {
      "cell_type": "code",
      "metadata": {
        "id": "LtGXayfplpP2"
      },
      "source": [
        "import tensorflow as tf\n",
        "from tensorflow import keras\n",
        "\n",
        "config = tf.compat.v1.ConfigProto()\n",
        "config.gpu_options.allow_growth = True\n",
        "config.gpu_options.per_process_gpu_memory_fraction = 0.99\n",
        "sess = tf.compat.v1.Session(config=config)\n",
        "tf.compat.v1.keras.backend.set_session(sess)"
      ],
      "execution_count": 4,
      "outputs": []
    },
    {
      "cell_type": "code",
      "metadata": {
        "id": "JKXTXWt4nKvb"
      },
      "source": [
        "def normalize(img):\n",
        "    min = img.min()\n",
        "    max = img.max()\n",
        "    return 2.0 * (img - min) / (max - min) - 1.0"
      ],
      "execution_count": 5,
      "outputs": []
    },
    {
      "cell_type": "code",
      "metadata": {
        "id": "XUqIJGL0nNnP"
      },
      "source": [
        "def norm_images_from_folder(folder):\n",
        "    images = []\n",
        "    for filename in os.listdir(folder):\n",
        "        if not filename.startswith('.'):\n",
        "            img=cv2.imread(os.path.join(folder,filename))[:2048,:2048,:1]#2048\n",
        "            #print('Original Dimensions : ',img.shape)\n",
        "            dim = (img_width, img_height)\n",
        "            resized = cv2.resize(img, dim, interpolation = cv2.INTER_AREA)\n",
        "            #print('Resized Dimensions : ',resized.shape)\n",
        "      #      img = cv2.fastNlMeansDenoising(img,50,50,20,21) \n",
        "            img = normalize(resized)\n",
        "            if img is not None:\n",
        "                images.append(img)\n",
        "    return images"
      ],
      "execution_count": 6,
      "outputs": []
    },
    {
      "cell_type": "code",
      "metadata": {
        "id": "b5Xmq65fnQkb"
      },
      "source": [
        "img_defects_norm=norm_images_from_folder(defect_folder)\n",
        "img_clean_norm=norm_images_from_folder(normal_folder)"
      ],
      "execution_count": 7,
      "outputs": []
    },
    {
      "cell_type": "code",
      "metadata": {
        "id": "8BDtMqmhnU2b"
      },
      "source": [
        "img_all=img_defects_norm+img_clean_norm\n",
        "Y=[1]*len(img_defects_norm)+[0]*len(img_clean_norm)\n",
        "np.save(\"img_all.npy\",img_all)\n",
        "np.save(\"Y_all.npy\",Y)"
      ],
      "execution_count": 8,
      "outputs": []
    },
    {
      "cell_type": "code",
      "metadata": {
        "id": "L4hBtxZsnXEJ"
      },
      "source": [
        "img_all=np.load(\"img_all.npy\")\n",
        "Y=np.load(\"Y_all.npy\")"
      ],
      "execution_count": 9,
      "outputs": []
    },
    {
      "cell_type": "code",
      "metadata": {
        "id": "XoAXgC3Gp3LO"
      },
      "source": [
        "from sklearn.model_selection import train_test_split\n",
        "X_train, X_test, y_train, y_test = train_test_split(img_all, Y, \n",
        "                    test_size=0.2, stratify = Y, random_state=60)"
      ],
      "execution_count": 10,
      "outputs": []
    },
    {
      "cell_type": "code",
      "metadata": {
        "colab": {
          "base_uri": "https://localhost:8080/"
        },
        "id": "35A-o_aeqpI9",
        "outputId": "de1e57e1-8ce1-409f-8d80-7e14709fed1c"
      },
      "source": [
        "\n",
        "print (X_train.shape)\n",
        "print (X_test.shape)\n",
        "\n"
      ],
      "execution_count": 11,
      "outputs": [
        {
          "output_type": "stream",
          "text": [
            "(177, 512, 512)\n",
            "(45, 512, 512)\n"
          ],
          "name": "stdout"
        }
      ]
    },
    {
      "cell_type": "code",
      "metadata": {
        "id": "UWDmfR6D29IV"
      },
      "source": [
        "def create_layers():\n",
        "  layers = []\n",
        "  size = 32 \n",
        "  \n",
        "  #encoder layers\n",
        "  for i in range(0, 3):\n",
        "    x = Conv2D(size, (3, 3), activation='relu', padding='same')\n",
        "    layers += [x] \n",
        "    x = MaxPooling2D((2, 2), padding='same')\n",
        "    layers += [x]\n",
        "    size = size // 2\n",
        "  \n",
        "\n",
        "  #deocder layers \n",
        "  for i in range(0, 3):\n",
        "    size = size * 2\n",
        "    if i == 2:\n",
        "      x = Conv2D(size, (3, 3), activation='relu', padding='same')\n",
        "    else:\n",
        "      x = Conv2D(size, (3, 3), activation='relu', padding='same')\n",
        "    layers += [x]\n",
        "    x = UpSampling2D((2, 2))\n",
        "    layers += [x]\n",
        "    \n",
        "    \n",
        "  x = Conv2D(1, (3, 3), activation='sigmoid', padding='same')\n",
        "  layers += [x]\n",
        "  \n",
        "  return layers\n",
        "\n",
        "def autoencoder():\n",
        "  input_img = Input(shape=(512, 512, 1))  \n",
        "\n",
        "  layers = create_layers()\n",
        "\n",
        "  #create the auto encoder network \n",
        "  x = input_img\n",
        "  for layer in layers:\n",
        "    x = layer(x)\n",
        "    \n",
        "  autoencoder = Model(input_img, x)\n",
        "  #autoencoder.compile(optimizer = 'adam', loss = 'binary_crossentropy')\n",
        "  autoencoder.compile(optimizer = 'adam', loss = 'mse')\n",
        "  \n",
        "  #create the encoder network\n",
        "  x = input_img\n",
        "  for layer in layers[0:6]:\n",
        "    x = layer(x)\n",
        "    \n",
        "  encoder = Model(input_img, x)\n",
        "  \n",
        "  #create the decoder network\n",
        "  input_encoded = Input(shape = (64, 64, 8))\n",
        "  x = input_encoded\n",
        "  for layer in layers[6:]:\n",
        "    x = layer(x)\n",
        "\n",
        "  decoder = Model(input_encoded, x)\n",
        "  return autoencoder, encoder, decoder "
      ],
      "execution_count": 14,
      "outputs": []
    },
    {
      "cell_type": "code",
      "metadata": {
        "id": "hHFbE_gr3LLG"
      },
      "source": [
        "autoencoder, encoder, decoder = autoencoder()"
      ],
      "execution_count": 15,
      "outputs": []
    },
    {
      "cell_type": "code",
      "metadata": {
        "colab": {
          "base_uri": "https://localhost:8080/"
        },
        "id": "QL-qZhSd32Ai",
        "outputId": "f02ce914-7654-43bd-abed-0cead1164a73"
      },
      "source": [
        "autoencoder.summary()"
      ],
      "execution_count": 16,
      "outputs": [
        {
          "output_type": "stream",
          "text": [
            "Model: \"model_2\"\n",
            "_________________________________________________________________\n",
            "Layer (type)                 Output Shape              Param #   \n",
            "=================================================================\n",
            "input_3 (InputLayer)         [(None, 512, 512, 1)]     0         \n",
            "_________________________________________________________________\n",
            "conv2d_7 (Conv2D)            (None, 512, 512, 32)      320       \n",
            "_________________________________________________________________\n",
            "max_pooling2d_3 (MaxPooling2 (None, 256, 256, 32)      0         \n",
            "_________________________________________________________________\n",
            "conv2d_8 (Conv2D)            (None, 256, 256, 16)      4624      \n",
            "_________________________________________________________________\n",
            "max_pooling2d_4 (MaxPooling2 (None, 128, 128, 16)      0         \n",
            "_________________________________________________________________\n",
            "conv2d_9 (Conv2D)            (None, 128, 128, 8)       1160      \n",
            "_________________________________________________________________\n",
            "max_pooling2d_5 (MaxPooling2 (None, 64, 64, 8)         0         \n",
            "_________________________________________________________________\n",
            "conv2d_10 (Conv2D)           (None, 64, 64, 8)         584       \n",
            "_________________________________________________________________\n",
            "up_sampling2d_3 (UpSampling2 (None, 128, 128, 8)       0         \n",
            "_________________________________________________________________\n",
            "conv2d_11 (Conv2D)           (None, 128, 128, 16)      1168      \n",
            "_________________________________________________________________\n",
            "up_sampling2d_4 (UpSampling2 (None, 256, 256, 16)      0         \n",
            "_________________________________________________________________\n",
            "conv2d_12 (Conv2D)           (None, 256, 256, 32)      4640      \n",
            "_________________________________________________________________\n",
            "up_sampling2d_5 (UpSampling2 (None, 512, 512, 32)      0         \n",
            "_________________________________________________________________\n",
            "conv2d_13 (Conv2D)           (None, 512, 512, 1)       289       \n",
            "=================================================================\n",
            "Total params: 12,785\n",
            "Trainable params: 12,785\n",
            "Non-trainable params: 0\n",
            "_________________________________________________________________\n"
          ],
          "name": "stdout"
        }
      ]
    },
    {
      "cell_type": "code",
      "metadata": {
        "colab": {
          "base_uri": "https://localhost:8080/"
        },
        "id": "YcbwRkvT3QVT",
        "outputId": "5429a330-cdd8-407c-c386-a650a59ebee9"
      },
      "source": [
        "history = autoencoder.fit(X_train, X_train,\n",
        "                epochs=10,\n",
        "                batch_size=3,\n",
        "                shuffle=True,\n",
        "                validation_data=(X_test, X_test))"
      ],
      "execution_count": 17,
      "outputs": [
        {
          "output_type": "stream",
          "text": [
            "Epoch 1/10\n",
            "59/59 [==============================] - 39s 643ms/step - loss: 0.2842 - val_loss: 0.1734\n",
            "Epoch 2/10\n",
            "59/59 [==============================] - 38s 640ms/step - loss: 0.1750 - val_loss: 0.1734\n",
            "Epoch 3/10\n",
            "59/59 [==============================] - 38s 644ms/step - loss: 0.1750 - val_loss: 0.1734\n",
            "Epoch 4/10\n",
            "59/59 [==============================] - 38s 651ms/step - loss: 0.1750 - val_loss: 0.1734\n",
            "Epoch 5/10\n",
            "59/59 [==============================] - 38s 645ms/step - loss: 0.1750 - val_loss: 0.1734\n",
            "Epoch 6/10\n",
            "59/59 [==============================] - 38s 649ms/step - loss: 0.1750 - val_loss: 0.1734\n",
            "Epoch 7/10\n",
            "59/59 [==============================] - 39s 659ms/step - loss: 0.1750 - val_loss: 0.1734\n",
            "Epoch 8/10\n",
            "59/59 [==============================] - 38s 652ms/step - loss: 0.1750 - val_loss: 0.1734\n",
            "Epoch 9/10\n",
            "59/59 [==============================] - 39s 658ms/step - loss: 0.1750 - val_loss: 0.1734\n",
            "Epoch 10/10\n",
            "59/59 [==============================] - 38s 652ms/step - loss: 0.1750 - val_loss: 0.1734\n"
          ],
          "name": "stdout"
        }
      ]
    },
    {
      "cell_type": "code",
      "metadata": {
        "colab": {
          "base_uri": "https://localhost:8080/",
          "height": 320
        },
        "id": "-cNeENkxVonf",
        "outputId": "0e2205ce-57e2-4113-d7b7-5b49f8edc310"
      },
      "source": [
        "import pandas as pd\n",
        "import matplotlib.pyplot as plt\n",
        "\n",
        "pd.DataFrame(history.history).plot(figsize=(8,5))\n",
        "plt.grid(True)\n",
        "#plt.gca().set_ylim(0,1)\n",
        "plt.show()\n",
        "#adam"
      ],
      "execution_count": 18,
      "outputs": [
        {
          "output_type": "display_data",
          "data": {
            "image/png": "[encoded data removed]",
            "text/plain": [
              "<Figure size 576x360 with 1 Axes>"
            ]
          },
          "metadata": {
            "tags": [],
            "needs_background": "light"
          }
        }
      ]
    },
    {
      "cell_type": "code",
      "metadata": {
        "id": "k5h7Xrn6XokT"
      },
      "source": [
        "def create_layers():\n",
        "  layers = []\n",
        "  size = 32 \n",
        "  \n",
        "  #encoder layers\n",
        "  for i in range(0, 3):\n",
        "    x = Conv2D(size, (3, 3), activation='relu', padding='same')\n",
        "    layers += [x] \n",
        "    x = MaxPooling2D((2, 2), padding='same')\n",
        "    layers += [x]\n",
        "    size = size // 2\n",
        "  \n",
        "\n",
        "  #deocder layers \n",
        "  for i in range(0, 3):\n",
        "    size = size * 2\n",
        "    if i == 2:\n",
        "      x = Conv2D(size, (3, 3), activation='relu', padding='same')\n",
        "    else:\n",
        "      x = Conv2D(size, (3, 3), activation='relu', padding='same')\n",
        "    layers += [x]\n",
        "    x = UpSampling2D((2, 2))\n",
        "    layers += [x]\n",
        "    \n",
        "    \n",
        "  x = Conv2D(1, (3, 3), activation='sigmoid', padding='same')\n",
        "  layers += [x]\n",
        "  \n",
        "  return layers\n",
        "\n",
        "def autoencoder():\n",
        "  input_img = Input(shape=(512, 512, 1))  \n",
        "\n",
        "  layers = create_layers()\n",
        "\n",
        "  #create the auto encoder network \n",
        "  x = input_img\n",
        "  for layer in layers:\n",
        "    x = layer(x)\n",
        "    \n",
        "  autoencoder = Model(input_img, x)\n",
        "  #autoencoder.compile(optimizer = 'adam', loss = 'binary_crossentropy')\n",
        "  autoencoder.compile(optimizer = 'sgd', loss = 'mse')\n",
        "  \n",
        "  #create the encoder network\n",
        "  x = input_img\n",
        "  for layer in layers[0:6]:\n",
        "    x = layer(x)\n",
        "    \n",
        "  encoder = Model(input_img, x)\n",
        "  \n",
        "  #create the decoder network\n",
        "  input_encoded = Input(shape = (64, 64, 8))\n",
        "  x = input_encoded\n",
        "  for layer in layers[6:]:\n",
        "    x = layer(x)\n",
        "\n",
        "  decoder = Model(input_encoded, x)\n",
        "  return autoencoder, encoder, decoder "
      ],
      "execution_count": 19,
      "outputs": []
    },
    {
      "cell_type": "code",
      "metadata": {
        "id": "NTXKAe3pX0ug"
      },
      "source": [
        "autoencoder, encoder, decoder = autoencoder()"
      ],
      "execution_count": 20,
      "outputs": []
    },
    {
      "cell_type": "code",
      "metadata": {
        "colab": {
          "base_uri": "https://localhost:8080/"
        },
        "id": "Dok8-vJrX3vI",
        "outputId": "dedb88c2-4de7-4ef2-c512-8e113164163d"
      },
      "source": [
        "history = autoencoder.fit(X_train, X_train,\n",
        "                epochs=10,\n",
        "                batch_size=3,\n",
        "                shuffle=True,\n",
        "                validation_data=(X_test, X_test))"
      ],
      "execution_count": 21,
      "outputs": [
        {
          "output_type": "stream",
          "text": [
            "Epoch 1/10\n",
            "59/59 [==============================] - 40s 668ms/step - loss: 0.6202 - val_loss: 0.5441\n",
            "Epoch 2/10\n",
            "59/59 [==============================] - 40s 672ms/step - loss: 0.4541 - val_loss: 0.3055\n",
            "Epoch 3/10\n",
            "59/59 [==============================] - 40s 674ms/step - loss: 0.2184 - val_loss: 0.1821\n",
            "Epoch 4/10\n",
            "59/59 [==============================] - 40s 673ms/step - loss: 0.1803 - val_loss: 0.1766\n",
            "Epoch 5/10\n",
            "59/59 [==============================] - 40s 673ms/step - loss: 0.1775 - val_loss: 0.1753\n",
            "Epoch 6/10\n",
            "59/59 [==============================] - 40s 674ms/step - loss: 0.1766 - val_loss: 0.1748\n",
            "Epoch 7/10\n",
            "59/59 [==============================] - 40s 670ms/step - loss: 0.1762 - val_loss: 0.1745\n",
            "Epoch 8/10\n",
            "59/59 [==============================] - 40s 678ms/step - loss: 0.1760 - val_loss: 0.1743\n",
            "Epoch 9/10\n",
            "59/59 [==============================] - 40s 675ms/step - loss: 0.1758 - val_loss: 0.1742\n",
            "Epoch 10/10\n",
            "59/59 [==============================] - 39s 662ms/step - loss: 0.1757 - val_loss: 0.1741\n"
          ],
          "name": "stdout"
        }
      ]
    },
    {
      "cell_type": "code",
      "metadata": {
        "colab": {
          "base_uri": "https://localhost:8080/",
          "height": 320
        },
        "id": "g6pKAy-dX6es",
        "outputId": "c7edcb0a-0104-4b64-ccd3-0775433349d2"
      },
      "source": [
        "import pandas as pd\n",
        "import matplotlib.pyplot as plt\n",
        "\n",
        "pd.DataFrame(history.history).plot(figsize=(8,5))\n",
        "plt.grid(True)\n",
        "#plt.gca().set_ylim(0,1)\n",
        "plt.show()\n",
        "#sgd"
      ],
      "execution_count": 22,
      "outputs": [
        {
          "output_type": "display_data",
          "data": {
            "image/png": "[encoded data removed]",
            "text/plain": [
              "<Figure size 576x360 with 1 Axes>"
            ]
          },
          "metadata": {
            "tags": [],
            "needs_background": "light"
          }
        }
      ]
    }
  ]
}